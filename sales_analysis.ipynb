{
 "cells": [
  {
   "cell_type": "markdown",
   "metadata": {},
   "source": [
    "##### Importing libraries"
   ]
  },
  {
   "cell_type": "code",
   "execution_count": 1,
   "metadata": {},
   "outputs": [],
   "source": [
    "import sqlite3\n",
    "\n",
    "import numpy as np\n",
    "import pandas as pd\n",
    "import matplotlib.pyplot as plt\n",
    "\n",
    "%matplotlib inline"
   ]
  },
  {
   "cell_type": "markdown",
   "metadata": {},
   "source": [
    "##### Connecting SQL client"
   ]
  },
  {
   "cell_type": "code",
   "execution_count": 2,
   "metadata": {},
   "outputs": [],
   "source": [
    "# database name. The database will be created in the same repo\n",
    "database = \"market_analysis\"\n",
    "\n",
    "# Connecting the database\n",
    "client = sqlite3.connect(database=database)"
   ]
  },
  {
   "cell_type": "markdown",
   "metadata": {},
   "source": [
    "##### Making dataframes of table data"
   ]
  },
  {
   "cell_type": "code",
   "execution_count": 3,
   "metadata": {},
   "outputs": [],
   "source": [
    "produit = pd.read_sql(sql=\"SELECT * FROM produit\", con=client)\n",
    "\n",
    "magasins = pd.read_sql(sql=\"SELECT * FROM magasins\", con=client)\n",
    "\n",
    "vente = pd.read_sql(sql=\"SELECT * FROM vente\", con=client)"
   ]
  },
  {
   "cell_type": "markdown",
   "metadata": {},
   "source": [
    "##### Task 1 : Total sales earning"
   ]
  },
  {
   "cell_type": "markdown",
   "metadata": {},
   "source": [
    "Grouping the `vente` dataframe by product reference"
   ]
  },
  {
   "cell_type": "code",
   "execution_count": 4,
   "metadata": {},
   "outputs": [
    {
     "data": {
      "text/html": [
       "<div>\n",
       "<style scoped>\n",
       "    .dataframe tbody tr th:only-of-type {\n",
       "        vertical-align: middle;\n",
       "    }\n",
       "\n",
       "    .dataframe tbody tr th {\n",
       "        vertical-align: top;\n",
       "    }\n",
       "\n",
       "    .dataframe thead th {\n",
       "        text-align: right;\n",
       "    }\n",
       "</style>\n",
       "<table border=\"1\" class=\"dataframe\">\n",
       "  <thead>\n",
       "    <tr style=\"text-align: right;\">\n",
       "      <th></th>\n",
       "      <th>index</th>\n",
       "      <th>Date</th>\n",
       "      <th>Quantité</th>\n",
       "      <th>ID Magasin</th>\n",
       "    </tr>\n",
       "    <tr>\n",
       "      <th>ID Référence produit</th>\n",
       "      <th></th>\n",
       "      <th></th>\n",
       "      <th></th>\n",
       "      <th></th>\n",
       "    </tr>\n",
       "  </thead>\n",
       "  <tbody>\n",
       "    <tr>\n",
       "      <th>REF001</th>\n",
       "      <td>75</td>\n",
       "      <td>2023-05-272023-06-012023-06-062023-06-112023-0...</td>\n",
       "      <td>24</td>\n",
       "      <td>21</td>\n",
       "    </tr>\n",
       "    <tr>\n",
       "      <th>REF002</th>\n",
       "      <td>81</td>\n",
       "      <td>2023-05-282023-06-022023-06-072023-06-122023-0...</td>\n",
       "      <td>27</td>\n",
       "      <td>18</td>\n",
       "    </tr>\n",
       "    <tr>\n",
       "      <th>REF003</th>\n",
       "      <td>87</td>\n",
       "      <td>2023-05-292023-06-032023-06-082023-06-132023-0...</td>\n",
       "      <td>15</td>\n",
       "      <td>19</td>\n",
       "    </tr>\n",
       "    <tr>\n",
       "      <th>REF004</th>\n",
       "      <td>93</td>\n",
       "      <td>2023-05-302023-06-042023-06-092023-06-142023-0...</td>\n",
       "      <td>21</td>\n",
       "      <td>20</td>\n",
       "    </tr>\n",
       "    <tr>\n",
       "      <th>REF005</th>\n",
       "      <td>99</td>\n",
       "      <td>2023-05-312023-06-052023-06-102023-06-152023-0...</td>\n",
       "      <td>35</td>\n",
       "      <td>25</td>\n",
       "    </tr>\n",
       "  </tbody>\n",
       "</table>\n",
       "</div>"
      ],
      "text/plain": [
       "                      index  \\\n",
       "ID Référence produit          \n",
       "REF001                   75   \n",
       "REF002                   81   \n",
       "REF003                   87   \n",
       "REF004                   93   \n",
       "REF005                   99   \n",
       "\n",
       "                                                                   Date  \\\n",
       "ID Référence produit                                                      \n",
       "REF001                2023-05-272023-06-012023-06-062023-06-112023-0...   \n",
       "REF002                2023-05-282023-06-022023-06-072023-06-122023-0...   \n",
       "REF003                2023-05-292023-06-032023-06-082023-06-132023-0...   \n",
       "REF004                2023-05-302023-06-042023-06-092023-06-142023-0...   \n",
       "REF005                2023-05-312023-06-052023-06-102023-06-152023-0...   \n",
       "\n",
       "                      Quantité  ID Magasin  \n",
       "ID Référence produit                        \n",
       "REF001                      24          21  \n",
       "REF002                      27          18  \n",
       "REF003                      15          19  \n",
       "REF004                      21          20  \n",
       "REF005                      35          25  "
      ]
     },
     "execution_count": 4,
     "metadata": {},
     "output_type": "execute_result"
    }
   ],
   "source": [
    "# Grouping data\n",
    "vente_groupee_par_ref_produit = vente.groupby('ID Référence produit').sum()\n",
    "\n",
    "# Sorting Index\n",
    "vente_groupee_par_ref_produit.sort_index()"
   ]
  },
  {
   "cell_type": "markdown",
   "metadata": {},
   "source": [
    "Setting index of `produit` dataframe"
   ]
  },
  {
   "cell_type": "code",
   "execution_count": 5,
   "metadata": {},
   "outputs": [
    {
     "data": {
      "text/html": [
       "<div>\n",
       "<style scoped>\n",
       "    .dataframe tbody tr th:only-of-type {\n",
       "        vertical-align: middle;\n",
       "    }\n",
       "\n",
       "    .dataframe tbody tr th {\n",
       "        vertical-align: top;\n",
       "    }\n",
       "\n",
       "    .dataframe thead th {\n",
       "        text-align: right;\n",
       "    }\n",
       "</style>\n",
       "<table border=\"1\" class=\"dataframe\">\n",
       "  <thead>\n",
       "    <tr style=\"text-align: right;\">\n",
       "      <th></th>\n",
       "      <th>index</th>\n",
       "      <th>Nom</th>\n",
       "      <th>Prix</th>\n",
       "      <th>Stock</th>\n",
       "    </tr>\n",
       "    <tr>\n",
       "      <th>ID Référence produit</th>\n",
       "      <th></th>\n",
       "      <th></th>\n",
       "      <th></th>\n",
       "      <th></th>\n",
       "    </tr>\n",
       "  </thead>\n",
       "  <tbody>\n",
       "    <tr>\n",
       "      <th>REF001</th>\n",
       "      <td>0</td>\n",
       "      <td>Produit A</td>\n",
       "      <td>49.99</td>\n",
       "      <td>100</td>\n",
       "    </tr>\n",
       "    <tr>\n",
       "      <th>REF002</th>\n",
       "      <td>1</td>\n",
       "      <td>Produit B</td>\n",
       "      <td>19.99</td>\n",
       "      <td>50</td>\n",
       "    </tr>\n",
       "    <tr>\n",
       "      <th>REF003</th>\n",
       "      <td>2</td>\n",
       "      <td>Produit C</td>\n",
       "      <td>29.99</td>\n",
       "      <td>75</td>\n",
       "    </tr>\n",
       "    <tr>\n",
       "      <th>REF004</th>\n",
       "      <td>3</td>\n",
       "      <td>Produit D</td>\n",
       "      <td>79.99</td>\n",
       "      <td>120</td>\n",
       "    </tr>\n",
       "    <tr>\n",
       "      <th>REF005</th>\n",
       "      <td>4</td>\n",
       "      <td>Produit E</td>\n",
       "      <td>39.99</td>\n",
       "      <td>80</td>\n",
       "    </tr>\n",
       "  </tbody>\n",
       "</table>\n",
       "</div>"
      ],
      "text/plain": [
       "                      index        Nom   Prix  Stock\n",
       "ID Référence produit                                \n",
       "REF001                    0  Produit A  49.99    100\n",
       "REF002                    1  Produit B  19.99     50\n",
       "REF003                    2  Produit C  29.99     75\n",
       "REF004                    3  Produit D  79.99    120\n",
       "REF005                    4  Produit E  39.99     80"
      ]
     },
     "execution_count": 5,
     "metadata": {},
     "output_type": "execute_result"
    }
   ],
   "source": [
    "# Setting index\n",
    "produit_reindexe = produit.set_index(\"ID Référence produit\")\n",
    "\n",
    "# Sorting index\n",
    "produit_reindexe.sort_index()"
   ]
  },
  {
   "cell_type": "markdown",
   "metadata": {},
   "source": [
    "Since both indices are same, we can multiply and add the `Quantité` column of `vente_groupee_par_ref_produit` dataframe and `Prix` column of `produit_reindexe` dataframe"
   ]
  },
  {
   "cell_type": "code",
   "execution_count": 6,
   "metadata": {},
   "outputs": [
    {
     "data": {
      "text/plain": [
       "ID Référence produit\n",
       "REF001    1199.76\n",
       "REF002     539.73\n",
       "REF003     449.85\n",
       "REF004    1679.79\n",
       "REF005    1399.65\n",
       "dtype: float64"
      ]
     },
     "execution_count": 6,
     "metadata": {},
     "output_type": "execute_result"
    }
   ],
   "source": [
    "# Multiplying quantity with the price per unit\n",
    "total_sales_par_produit=vente_groupee_par_ref_produit[\"Quantité\"]*produit_reindexe[\"Prix\"]\n",
    "\n",
    "# Displaying result of total sales per product\n",
    "total_sales_par_produit"
   ]
  },
  {
   "cell_type": "markdown",
   "metadata": {},
   "source": [
    "To get the total sales for all the products, we will do sum of `total_sales_par_produit`"
   ]
  },
  {
   "cell_type": "code",
   "execution_count": 7,
   "metadata": {},
   "outputs": [
    {
     "name": "stdout",
     "output_type": "stream",
     "text": [
      "and the total sales is 5268.78€\n"
     ]
    }
   ],
   "source": [
    "# Summing up sales of all products\n",
    "total_sales=total_sales_par_produit.sum()\n",
    "\n",
    "# Displaying the result\n",
    "print(\"and the total sales is {}€\".format(total_sales))"
   ]
  },
  {
   "cell_type": "markdown",
   "metadata": {},
   "source": [
    "##### Task 2: The sales per product\n",
    "\n",
    "It is the dataframe `total_sales_par_produit`, which is recalled below"
   ]
  },
  {
   "cell_type": "code",
   "execution_count": 8,
   "metadata": {},
   "outputs": [
    {
     "data": {
      "text/plain": [
       "ID Référence produit\n",
       "REF001    1199.76\n",
       "REF002     539.73\n",
       "REF003     449.85\n",
       "REF004    1679.79\n",
       "REF005    1399.65\n",
       "dtype: float64"
      ]
     },
     "execution_count": 8,
     "metadata": {},
     "output_type": "execute_result"
    }
   ],
   "source": [
    "# Recalling the dataframe\n",
    "total_sales_par_produit"
   ]
  },
  {
   "cell_type": "markdown",
   "metadata": {},
   "source": [
    "The graph below shows that the product having reference `REF004` earned most revenue among all the product sales"
   ]
  },
  {
   "cell_type": "code",
   "execution_count": 9,
   "metadata": {},
   "outputs": [
    {
     "data": {
      "text/plain": [
       "<Axes: xlabel='ID Référence produit'>"
      ]
     },
     "execution_count": 9,
     "metadata": {},
     "output_type": "execute_result"
    },
    {
     "data": {
      "image/png": "[encoded data removed]",
      "text/plain": [
       "<Figure size 640x480 with 1 Axes>"
      ]
     },
     "metadata": {},
     "output_type": "display_data"
    }
   ],
   "source": [
    "# Plotting the data in the form of bars\n",
    "total_sales_par_produit.plot.bar()"
   ]
  },
  {
   "cell_type": "markdown",
   "metadata": {},
   "source": [
    "##### Task 3 : The sales per region"
   ]
  },
  {
   "cell_type": "markdown",
   "metadata": {},
   "source": [
    "Fist, we populate a new column `Prix` in `vente` dataframe with the prices per unit fetched from `produit_reindexe` dataframe with respect to each product reference in the list above"
   ]
  },
  {
   "cell_type": "code",
   "execution_count": 10,
   "metadata": {},
   "outputs": [
    {
     "data": {
      "text/html": [
       "<div>\n",
       "<style scoped>\n",
       "    .dataframe tbody tr th:only-of-type {\n",
       "        vertical-align: middle;\n",
       "    }\n",
       "\n",
       "    .dataframe tbody tr th {\n",
       "        vertical-align: top;\n",
       "    }\n",
       "\n",
       "    .dataframe thead th {\n",
       "        text-align: right;\n",
       "    }\n",
       "</style>\n",
       "<table border=\"1\" class=\"dataframe\">\n",
       "  <thead>\n",
       "    <tr style=\"text-align: right;\">\n",
       "      <th></th>\n",
       "      <th>index</th>\n",
       "      <th>Date</th>\n",
       "      <th>ID Référence produit</th>\n",
       "      <th>Quantité</th>\n",
       "      <th>ID Magasin</th>\n",
       "      <th>Prix</th>\n",
       "    </tr>\n",
       "  </thead>\n",
       "  <tbody>\n",
       "    <tr>\n",
       "      <th>0</th>\n",
       "      <td>0</td>\n",
       "      <td>2023-05-27</td>\n",
       "      <td>REF001</td>\n",
       "      <td>5</td>\n",
       "      <td>1</td>\n",
       "      <td>49.99</td>\n",
       "    </tr>\n",
       "    <tr>\n",
       "      <th>1</th>\n",
       "      <td>1</td>\n",
       "      <td>2023-05-28</td>\n",
       "      <td>REF002</td>\n",
       "      <td>3</td>\n",
       "      <td>2</td>\n",
       "      <td>19.99</td>\n",
       "    </tr>\n",
       "    <tr>\n",
       "      <th>2</th>\n",
       "      <td>2</td>\n",
       "      <td>2023-05-29</td>\n",
       "      <td>REF003</td>\n",
       "      <td>2</td>\n",
       "      <td>1</td>\n",
       "      <td>29.99</td>\n",
       "    </tr>\n",
       "    <tr>\n",
       "      <th>3</th>\n",
       "      <td>3</td>\n",
       "      <td>2023-05-30</td>\n",
       "      <td>REF004</td>\n",
       "      <td>4</td>\n",
       "      <td>3</td>\n",
       "      <td>79.99</td>\n",
       "    </tr>\n",
       "    <tr>\n",
       "      <th>4</th>\n",
       "      <td>4</td>\n",
       "      <td>2023-05-31</td>\n",
       "      <td>REF005</td>\n",
       "      <td>7</td>\n",
       "      <td>2</td>\n",
       "      <td>39.99</td>\n",
       "    </tr>\n",
       "  </tbody>\n",
       "</table>\n",
       "</div>"
      ],
      "text/plain": [
       "   index        Date ID Référence produit  Quantité  ID Magasin   Prix\n",
       "0      0  2023-05-27               REF001         5           1  49.99\n",
       "1      1  2023-05-28               REF002         3           2  19.99\n",
       "2      2  2023-05-29               REF003         2           1  29.99\n",
       "3      3  2023-05-30               REF004         4           3  79.99\n",
       "4      4  2023-05-31               REF005         7           2  39.99"
      ]
     },
     "execution_count": 10,
     "metadata": {},
     "output_type": "execute_result"
    }
   ],
   "source": [
    "# New column name\n",
    "prix = \"Prix\"\n",
    "\n",
    "# Populating new column with null values\n",
    "vente[prix] = np.NaN\n",
    "\n",
    "# iterating over vente dataframe\n",
    "for idx1 in vente.index:\n",
    "\n",
    "    # iterating over the produit_reindexe dataframe\n",
    "    for idx2 in produit_reindexe.index:\n",
    "\n",
    "        # Getting value of product reference at said index\n",
    "        vente_element = str(vente.loc[idx1,\"ID Référence produit\"])\n",
    "\n",
    "        # if the fetched element matches with the index of produit_reindexe\n",
    "        if vente_element == idx2:\n",
    "            \n",
    "            # Copy the value of respective price in the vente column\n",
    "            vente.loc[idx1,prix]=produit_reindexe.loc[idx2,prix]\n",
    "\n",
    "# Display the top 5 rows\n",
    "vente.head()"
   ]
  },
  {
   "cell_type": "markdown",
   "metadata": {},
   "source": [
    "To get total sales of each product on each day, we multiply the quantity with the per unit price"
   ]
  },
  {
   "cell_type": "code",
   "execution_count": 11,
   "metadata": {},
   "outputs": [
    {
     "data": {
      "text/html": [
       "<div>\n",
       "<style scoped>\n",
       "    .dataframe tbody tr th:only-of-type {\n",
       "        vertical-align: middle;\n",
       "    }\n",
       "\n",
       "    .dataframe tbody tr th {\n",
       "        vertical-align: top;\n",
       "    }\n",
       "\n",
       "    .dataframe thead th {\n",
       "        text-align: right;\n",
       "    }\n",
       "</style>\n",
       "<table border=\"1\" class=\"dataframe\">\n",
       "  <thead>\n",
       "    <tr style=\"text-align: right;\">\n",
       "      <th></th>\n",
       "      <th>index</th>\n",
       "      <th>Date</th>\n",
       "      <th>ID Référence produit</th>\n",
       "      <th>Quantité</th>\n",
       "      <th>ID Magasin</th>\n",
       "      <th>Prix</th>\n",
       "      <th>vente_totale</th>\n",
       "    </tr>\n",
       "  </thead>\n",
       "  <tbody>\n",
       "    <tr>\n",
       "      <th>0</th>\n",
       "      <td>0</td>\n",
       "      <td>2023-05-27</td>\n",
       "      <td>REF001</td>\n",
       "      <td>5</td>\n",
       "      <td>1</td>\n",
       "      <td>49.99</td>\n",
       "      <td>249.95</td>\n",
       "    </tr>\n",
       "    <tr>\n",
       "      <th>1</th>\n",
       "      <td>1</td>\n",
       "      <td>2023-05-28</td>\n",
       "      <td>REF002</td>\n",
       "      <td>3</td>\n",
       "      <td>2</td>\n",
       "      <td>19.99</td>\n",
       "      <td>59.97</td>\n",
       "    </tr>\n",
       "    <tr>\n",
       "      <th>2</th>\n",
       "      <td>2</td>\n",
       "      <td>2023-05-29</td>\n",
       "      <td>REF003</td>\n",
       "      <td>2</td>\n",
       "      <td>1</td>\n",
       "      <td>29.99</td>\n",
       "      <td>59.98</td>\n",
       "    </tr>\n",
       "    <tr>\n",
       "      <th>3</th>\n",
       "      <td>3</td>\n",
       "      <td>2023-05-30</td>\n",
       "      <td>REF004</td>\n",
       "      <td>4</td>\n",
       "      <td>3</td>\n",
       "      <td>79.99</td>\n",
       "      <td>319.96</td>\n",
       "    </tr>\n",
       "    <tr>\n",
       "      <th>4</th>\n",
       "      <td>4</td>\n",
       "      <td>2023-05-31</td>\n",
       "      <td>REF005</td>\n",
       "      <td>7</td>\n",
       "      <td>2</td>\n",
       "      <td>39.99</td>\n",
       "      <td>279.93</td>\n",
       "    </tr>\n",
       "  </tbody>\n",
       "</table>\n",
       "</div>"
      ],
      "text/plain": [
       "   index        Date ID Référence produit  Quantité  ID Magasin   Prix  \\\n",
       "0      0  2023-05-27               REF001         5           1  49.99   \n",
       "1      1  2023-05-28               REF002         3           2  19.99   \n",
       "2      2  2023-05-29               REF003         2           1  29.99   \n",
       "3      3  2023-05-30               REF004         4           3  79.99   \n",
       "4      4  2023-05-31               REF005         7           2  39.99   \n",
       "\n",
       "   vente_totale  \n",
       "0        249.95  \n",
       "1         59.97  \n",
       "2         59.98  \n",
       "3        319.96  \n",
       "4        279.93  "
      ]
     },
     "execution_count": 11,
     "metadata": {},
     "output_type": "execute_result"
    }
   ],
   "source": [
    "# multiplying quantity with per unit price\n",
    "vente[\"vente_totale\"] = vente[\"Quantité\"]*vente[\"Prix\"]\n",
    "\n",
    "# Display the top 5 rows\n",
    "vente.head()"
   ]
  },
  {
   "cell_type": "markdown",
   "metadata": {},
   "source": [
    "Now we groupby and sum up the sales with respect to each shop"
   ]
  },
  {
   "cell_type": "code",
   "execution_count": 12,
   "metadata": {},
   "outputs": [
    {
     "data": {
      "text/html": [
       "<div>\n",
       "<style scoped>\n",
       "    .dataframe tbody tr th:only-of-type {\n",
       "        vertical-align: middle;\n",
       "    }\n",
       "\n",
       "    .dataframe tbody tr th {\n",
       "        vertical-align: top;\n",
       "    }\n",
       "\n",
       "    .dataframe thead th {\n",
       "        text-align: right;\n",
       "    }\n",
       "</style>\n",
       "<table border=\"1\" class=\"dataframe\">\n",
       "  <thead>\n",
       "    <tr style=\"text-align: right;\">\n",
       "      <th></th>\n",
       "      <th>Quantité</th>\n",
       "      <th>Prix</th>\n",
       "      <th>vente_totale</th>\n",
       "    </tr>\n",
       "    <tr>\n",
       "      <th>ID Magasin</th>\n",
       "      <th></th>\n",
       "      <th></th>\n",
       "      <th></th>\n",
       "    </tr>\n",
       "  </thead>\n",
       "  <tbody>\n",
       "    <tr>\n",
       "      <th>1</th>\n",
       "      <td>20</td>\n",
       "      <td>259.94</td>\n",
       "      <td>799.80</td>\n",
       "    </tr>\n",
       "    <tr>\n",
       "      <th>2</th>\n",
       "      <td>27</td>\n",
       "      <td>229.94</td>\n",
       "      <td>1009.73</td>\n",
       "    </tr>\n",
       "    <tr>\n",
       "      <th>3</th>\n",
       "      <td>21</td>\n",
       "      <td>269.95</td>\n",
       "      <td>1059.79</td>\n",
       "    </tr>\n",
       "    <tr>\n",
       "      <th>4</th>\n",
       "      <td>19</td>\n",
       "      <td>179.96</td>\n",
       "      <td>829.81</td>\n",
       "    </tr>\n",
       "    <tr>\n",
       "      <th>5</th>\n",
       "      <td>7</td>\n",
       "      <td>99.97</td>\n",
       "      <td>249.93</td>\n",
       "    </tr>\n",
       "    <tr>\n",
       "      <th>6</th>\n",
       "      <td>17</td>\n",
       "      <td>129.97</td>\n",
       "      <td>739.83</td>\n",
       "    </tr>\n",
       "    <tr>\n",
       "      <th>7</th>\n",
       "      <td>11</td>\n",
       "      <td>149.97</td>\n",
       "      <td>579.89</td>\n",
       "    </tr>\n",
       "  </tbody>\n",
       "</table>\n",
       "</div>"
      ],
      "text/plain": [
       "            Quantité    Prix  vente_totale\n",
       "ID Magasin                                \n",
       "1                 20  259.94        799.80\n",
       "2                 27  229.94       1009.73\n",
       "3                 21  269.95       1059.79\n",
       "4                 19  179.96        829.81\n",
       "5                  7   99.97        249.93\n",
       "6                 17  129.97        739.83\n",
       "7                 11  149.97        579.89"
      ]
     },
     "execution_count": 12,
     "metadata": {},
     "output_type": "execute_result"
    }
   ],
   "source": [
    "# Summing up the sales in vente_totale column with respect to shop ID\n",
    "vente_groupee_par_magasin = vente.groupby(\"ID Magasin\").sum()\n",
    "\n",
    "# Sorting Indecx\n",
    "vente_groupee_par_magasin.sort_index()\n",
    "\n",
    "# Filtering the columns\n",
    "vente_groupee_par_magasin = vente_groupee_par_magasin[[\"Quantité\",\"Prix\",\"vente_totale\"]]\n",
    "\n",
    "# Displaying the dataframe\n",
    "vente_groupee_par_magasin"
   ]
  },
  {
   "cell_type": "markdown",
   "metadata": {},
   "source": [
    "To make it readable, we will add the shop location in front of each shop ID"
   ]
  },
  {
   "cell_type": "code",
   "execution_count": 13,
   "metadata": {},
   "outputs": [
    {
     "data": {
      "text/html": [
       "<div>\n",
       "<style scoped>\n",
       "    .dataframe tbody tr th:only-of-type {\n",
       "        vertical-align: middle;\n",
       "    }\n",
       "\n",
       "    .dataframe tbody tr th {\n",
       "        vertical-align: top;\n",
       "    }\n",
       "\n",
       "    .dataframe thead th {\n",
       "        text-align: right;\n",
       "    }\n",
       "</style>\n",
       "<table border=\"1\" class=\"dataframe\">\n",
       "  <thead>\n",
       "    <tr style=\"text-align: right;\">\n",
       "      <th></th>\n",
       "      <th>Quantité</th>\n",
       "      <th>Prix</th>\n",
       "      <th>vente_totale</th>\n",
       "      <th>Ville</th>\n",
       "    </tr>\n",
       "    <tr>\n",
       "      <th>ID Magasin</th>\n",
       "      <th></th>\n",
       "      <th></th>\n",
       "      <th></th>\n",
       "      <th></th>\n",
       "    </tr>\n",
       "  </thead>\n",
       "  <tbody>\n",
       "    <tr>\n",
       "      <th>1</th>\n",
       "      <td>20</td>\n",
       "      <td>259.94</td>\n",
       "      <td>799.80</td>\n",
       "      <td>Paris</td>\n",
       "    </tr>\n",
       "    <tr>\n",
       "      <th>2</th>\n",
       "      <td>27</td>\n",
       "      <td>229.94</td>\n",
       "      <td>1009.73</td>\n",
       "      <td>Marseille</td>\n",
       "    </tr>\n",
       "    <tr>\n",
       "      <th>3</th>\n",
       "      <td>21</td>\n",
       "      <td>269.95</td>\n",
       "      <td>1059.79</td>\n",
       "      <td>Lyon</td>\n",
       "    </tr>\n",
       "    <tr>\n",
       "      <th>4</th>\n",
       "      <td>19</td>\n",
       "      <td>179.96</td>\n",
       "      <td>829.81</td>\n",
       "      <td>Bordeaux</td>\n",
       "    </tr>\n",
       "    <tr>\n",
       "      <th>5</th>\n",
       "      <td>7</td>\n",
       "      <td>99.97</td>\n",
       "      <td>249.93</td>\n",
       "      <td>Lille</td>\n",
       "    </tr>\n",
       "    <tr>\n",
       "      <th>6</th>\n",
       "      <td>17</td>\n",
       "      <td>129.97</td>\n",
       "      <td>739.83</td>\n",
       "      <td>Nantes</td>\n",
       "    </tr>\n",
       "    <tr>\n",
       "      <th>7</th>\n",
       "      <td>11</td>\n",
       "      <td>149.97</td>\n",
       "      <td>579.89</td>\n",
       "      <td>Strasbourg</td>\n",
       "    </tr>\n",
       "  </tbody>\n",
       "</table>\n",
       "</div>"
      ],
      "text/plain": [
       "            Quantité    Prix  vente_totale       Ville\n",
       "ID Magasin                                            \n",
       "1                 20  259.94        799.80       Paris\n",
       "2                 27  229.94       1009.73   Marseille\n",
       "3                 21  269.95       1059.79        Lyon\n",
       "4                 19  179.96        829.81    Bordeaux\n",
       "5                  7   99.97        249.93       Lille\n",
       "6                 17  129.97        739.83      Nantes\n",
       "7                 11  149.97        579.89  Strasbourg"
      ]
     },
     "execution_count": 13,
     "metadata": {},
     "output_type": "execute_result"
    }
   ],
   "source": [
    "# New column name\n",
    "ville = \"Ville\"\n",
    "\n",
    "# Populating new column with null values\n",
    "vente_groupee_par_magasin[ville] = np.NaN\n",
    "\n",
    "# iterating over vente_groupee_par_magasin dataframe\n",
    "for idx1 in vente_groupee_par_magasin.index:\n",
    "\n",
    "    # iterating over magasins dataframe\n",
    "    for idx2 in magasins.index:\n",
    "\n",
    "        # Getting value of shop ID at said index\n",
    "        magasins_element = int(magasins.loc[idx2,\"ID Magasin\"])\n",
    "\n",
    "        # if the index of vente_groupee_par_magasin matches with the magasins_element\n",
    "        if idx1 == magasins_element:\n",
    "            \n",
    "            # Copy the value of respective shop location in the vente column\n",
    "            vente_groupee_par_magasin.loc[idx1,ville]=magasins.loc[idx2,ville]\n",
    "\n",
    "# Displaying dataframe\n",
    "vente_groupee_par_magasin"
   ]
  },
  {
   "cell_type": "markdown",
   "metadata": {},
   "source": [
    "From the graph below, we can see that maximum sales occured in the city of Lyon"
   ]
  },
  {
   "cell_type": "code",
   "execution_count": 14,
   "metadata": {},
   "outputs": [
    {
     "data": {
      "text/plain": [
       "<Axes: xlabel='Ville'>"
      ]
     },
     "execution_count": 14,
     "metadata": {},
     "output_type": "execute_result"
    },
    {
     "data": {
      "image/png": "[encoded data removed]",
      "text/plain": [
       "<Figure size 640x480 with 1 Axes>"
      ]
     },
     "metadata": {},
     "output_type": "display_data"
    }
   ],
   "source": [
    "# Filtering the columns\n",
    "ville_et_vente_totale = vente_groupee_par_magasin[[\"Ville\", \"vente_totale\"]]\n",
    "\n",
    "# Setting the index\n",
    "ville_et_vente_totale.set_index(\"Ville\", inplace=True)\n",
    "\n",
    "# Plotting the results\n",
    "ville_et_vente_totale.plot.bar()"
   ]
  }
 ],
 "metadata": {
  "kernelspec": {
   "display_name": "base",
   "language": "python",
   "name": "python3"
  },
  "language_info": {
   "codemirror_mode": {
    "name": "ipython",
    "version": 3
   },
   "file_extension": ".py",
   "mimetype": "text/x-python",
   "name": "python",
   "nbconvert_exporter": "python",
   "pygments_lexer": "ipython3",
   "version": "3.11.5"
  }
 },
 "nbformat": 4,
 "nbformat_minor": 2
}
