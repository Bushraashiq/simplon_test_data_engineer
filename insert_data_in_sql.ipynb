{
 "cells": [
  {
   "cell_type": "markdown",
   "metadata": {},
   "source": [
    "##### Importing libraries"
   ]
  },
  {
   "cell_type": "code",
   "execution_count": 1,
   "metadata": {},
   "outputs": [],
   "source": [
    "import sqlite3\n",
    "\n",
    "import pandas as pd\n",
    "\n",
    "from pprint import pprint"
   ]
  },
  {
   "cell_type": "markdown",
   "metadata": {},
   "source": [
    "##### HTTP links of data"
   ]
  },
  {
   "cell_type": "code",
   "execution_count": 2,
   "metadata": {},
   "outputs": [
    {
     "name": "stdout",
     "output_type": "stream",
     "text": [
      "{'magasins': 'https://docs.google.com/spreadsheets/d/e/2PACX-1vSawI56WBC64foMT9pKCiY594fBZk9Lyj8_bxfgmq-8ck_jw1Z49qDeMatCWqBxehEVoM6U1zdYx73V/pub?gid=714623615&single=true&output=csv',\n",
      " 'produit': 'https://docs.google.com/spreadsheets/d/e/2PACX-1vSawI56WBC64foMT9pKCiY594fBZk9Lyj8_bxfgmq-8ck_jw1Z49qDeMatCWqBxehEVoM6U1zdYx73V/pub?gid=0&single=true&output=csv',\n",
      " 'vente': 'https://docs.google.com/spreadsheets/d/e/2PACX-1vSawI56WBC64foMT9pKCiY594fBZk9Lyj8_bxfgmq-8ck_jw1Z49qDeMatCWqBxehEVoM6U1zdYx73V/pub?gid=760830694&single=true&output=csv'}\n"
     ]
    }
   ],
   "source": [
    "# Value = Source URL\n",
    "dict_sources = {\"produit\" : \"https://docs.google.com/spreadsheets/d/e/2PACX-1vSawI56WBC64foMT9pKCiY594fBZk9Lyj8_bxfgmq-8ck_jw1Z49qDeMatCWqBxehEVoM6U1zdYx73V/pub?gid=0&single=true&output=csv\",\n",
    "                \"magasins\" : \"https://docs.google.com/spreadsheets/d/e/2PACX-1vSawI56WBC64foMT9pKCiY594fBZk9Lyj8_bxfgmq-8ck_jw1Z49qDeMatCWqBxehEVoM6U1zdYx73V/pub?gid=714623615&single=true&output=csv\",\n",
    "                \"vente\" : \"https://docs.google.com/spreadsheets/d/e/2PACX-1vSawI56WBC64foMT9pKCiY594fBZk9Lyj8_bxfgmq-8ck_jw1Z49qDeMatCWqBxehEVoM6U1zdYx73V/pub?gid=760830694&single=true&output=csv\"}\n",
    "\n",
    "pprint(dict_sources)"
   ]
  },
  {
   "cell_type": "markdown",
   "metadata": {},
   "source": [
    "##### Iterating over the sources to make dataframes and storing in a dictionary"
   ]
  },
  {
   "cell_type": "code",
   "execution_count": 3,
   "metadata": {},
   "outputs": [
    {
     "name": "stdout",
     "output_type": "stream",
     "text": [
      "produit \n",
      " https://docs.google.com/spreadsheets/d/e/2PACX-1vSawI56WBC64foMT9pKCiY594fBZk9Lyj8_bxfgmq-8ck_jw1Z49qDeMatCWqBxehEVoM6U1zdYx73V/pub?gid=0&single=true&output=csv\n",
      "(5, 4)\n",
      "magasins \n",
      " https://docs.google.com/spreadsheets/d/e/2PACX-1vSawI56WBC64foMT9pKCiY594fBZk9Lyj8_bxfgmq-8ck_jw1Z49qDeMatCWqBxehEVoM6U1zdYx73V/pub?gid=714623615&single=true&output=csv\n",
      "(7, 3)\n",
      "vente \n",
      " https://docs.google.com/spreadsheets/d/e/2PACX-1vSawI56WBC64foMT9pKCiY594fBZk9Lyj8_bxfgmq-8ck_jw1Z49qDeMatCWqBxehEVoM6U1zdYx73V/pub?gid=760830694&single=true&output=csv\n",
      "(30, 4)\n"
     ]
    }
   ],
   "source": [
    "# Empty dictionary to be populated in for loop below\n",
    "dict_dataframes = {}\n",
    "\n",
    "# iterate the dict sources \n",
    "for data_label, source in dict_sources.items():\n",
    "\n",
    "    # print file_name and link with \\n\n",
    "    print(data_label,\"\\n\",source)\n",
    "\n",
    "    # read csv files\n",
    "    data = pd.read_csv(source)\n",
    "\n",
    "    # print the shape of each dataframe\n",
    "    print(data.shape)\n",
    "    \n",
    "    # storing dataframe in the dictionary\n",
    "    dict_dataframes[data_label] = data\n"
   ]
  },
  {
   "cell_type": "markdown",
   "metadata": {},
   "source": [
    "##### Connecting SQL client"
   ]
  },
  {
   "cell_type": "code",
   "execution_count": 4,
   "metadata": {},
   "outputs": [],
   "source": [
    "# database name. The database will be created in the same repo\n",
    "database = \"market_analysis\"\n",
    "\n",
    "# Connecting the database\n",
    "client = sqlite3.connect(database=database)"
   ]
  },
  {
   "cell_type": "markdown",
   "metadata": {},
   "source": [
    "##### Making tables in the database. The table names are produit, magasin and vente"
   ]
  },
  {
   "cell_type": "code",
   "execution_count": 5,
   "metadata": {},
   "outputs": [
    {
     "name": "stdout",
     "output_type": "stream",
     "text": [
      "produit \n",
      "          Nom ID Référence produit   Prix  Stock\n",
      "0  Produit A               REF001  49.99    100\n",
      "1  Produit B               REF002  19.99     50\n",
      "2  Produit C               REF003  29.99     75\n",
      "3  Produit D               REF004  79.99    120\n",
      "4  Produit E               REF005  39.99     80\n",
      "magasins \n",
      "    ID Magasin      Ville  Nombre de salariés\n",
      "0           1      Paris                  10\n",
      "1           2  Marseille                   5\n",
      "2           3       Lyon                   8\n",
      "3           4   Bordeaux                  12\n",
      "4           5      Lille                   6\n",
      "vente \n",
      "          Date ID Référence produit  Quantité  ID Magasin\n",
      "0  2023-05-27               REF001         5           1\n",
      "1  2023-05-28               REF002         3           2\n",
      "2  2023-05-29               REF003         2           1\n",
      "3  2023-05-30               REF004         4           3\n",
      "4  2023-05-31               REF005         7           2\n"
     ]
    }
   ],
   "source": [
    "# iterating on the dataframes dictionary and storing these dataframes as tables in sql database\n",
    "for data_label, dataframe in dict_dataframes.items():\n",
    "\n",
    "    # printing the table name and top 5 rows\n",
    "    print(data_label,\"\\n\",dataframe.head())\n",
    "\n",
    "    # storing in the database\n",
    "    dataframe.to_sql(name=data_label, con=client)"
   ]
  },
  {
   "cell_type": "markdown",
   "metadata": {},
   "source": [
    "##### Verifying if the data is readable"
   ]
  },
  {
   "cell_type": "code",
   "execution_count": 6,
   "metadata": {},
   "outputs": [
    {
     "name": "stdout",
     "output_type": "stream",
     "text": [
      "produit\n",
      "(5, 5)\n",
      "magasins\n",
      "(7, 4)\n",
      "vente\n",
      "(30, 5)\n"
     ]
    }
   ],
   "source": [
    "# iterating on the dict_dataframes keys to check if the shapes are same as in cell 3\n",
    "for data_label in dict_dataframes.keys():\n",
    "\n",
    "    # printing the table name\n",
    "    print(data_label)\n",
    "\n",
    "    # reading data from sql database\n",
    "    df_read = pd.read_sql(sql=\"SELECT * FROM {}\".format(data_label), con=client)\n",
    "\n",
    "    # Looking the shape of df_read\n",
    "    print(df_read.shape)"
   ]
  },
  {
   "cell_type": "code",
   "execution_count": 7,
   "metadata": {},
   "outputs": [
    {
     "data": {
      "text/html": [
       "<div>\n",
       "<style scoped>\n",
       "    .dataframe tbody tr th:only-of-type {\n",
       "        vertical-align: middle;\n",
       "    }\n",
       "\n",
       "    .dataframe tbody tr th {\n",
       "        vertical-align: top;\n",
       "    }\n",
       "\n",
       "    .dataframe thead th {\n",
       "        text-align: right;\n",
       "    }\n",
       "</style>\n",
       "<table border=\"1\" class=\"dataframe\">\n",
       "  <thead>\n",
       "    <tr style=\"text-align: right;\">\n",
       "      <th></th>\n",
       "      <th>index</th>\n",
       "      <th>Date</th>\n",
       "      <th>ID Référence produit</th>\n",
       "      <th>Quantité</th>\n",
       "      <th>ID Magasin</th>\n",
       "    </tr>\n",
       "  </thead>\n",
       "  <tbody>\n",
       "    <tr>\n",
       "      <th>0</th>\n",
       "      <td>0</td>\n",
       "      <td>2023-05-27</td>\n",
       "      <td>REF001</td>\n",
       "      <td>5</td>\n",
       "      <td>1</td>\n",
       "    </tr>\n",
       "    <tr>\n",
       "      <th>1</th>\n",
       "      <td>1</td>\n",
       "      <td>2023-05-28</td>\n",
       "      <td>REF002</td>\n",
       "      <td>3</td>\n",
       "      <td>2</td>\n",
       "    </tr>\n",
       "    <tr>\n",
       "      <th>2</th>\n",
       "      <td>2</td>\n",
       "      <td>2023-05-29</td>\n",
       "      <td>REF003</td>\n",
       "      <td>2</td>\n",
       "      <td>1</td>\n",
       "    </tr>\n",
       "    <tr>\n",
       "      <th>3</th>\n",
       "      <td>3</td>\n",
       "      <td>2023-05-30</td>\n",
       "      <td>REF004</td>\n",
       "      <td>4</td>\n",
       "      <td>3</td>\n",
       "    </tr>\n",
       "    <tr>\n",
       "      <th>4</th>\n",
       "      <td>4</td>\n",
       "      <td>2023-05-31</td>\n",
       "      <td>REF005</td>\n",
       "      <td>7</td>\n",
       "      <td>2</td>\n",
       "    </tr>\n",
       "  </tbody>\n",
       "</table>\n",
       "</div>"
      ],
      "text/plain": [
       "   index        Date ID Référence produit  Quantité  ID Magasin\n",
       "0      0  2023-05-27               REF001         5           1\n",
       "1      1  2023-05-28               REF002         3           2\n",
       "2      2  2023-05-29               REF003         2           1\n",
       "3      3  2023-05-30               REF004         4           3\n",
       "4      4  2023-05-31               REF005         7           2"
      ]
     },
     "execution_count": 7,
     "metadata": {},
     "output_type": "execute_result"
    }
   ],
   "source": [
    "# checking the extra column\n",
    "df_read.head()"
   ]
  },
  {
   "cell_type": "markdown",
   "metadata": {},
   "source": [
    "Since the shapes are same, excluding the index, therefore, we can say that the data from the source URL are successfully inserted in the SQL database."
   ]
  }
 ],
 "metadata": {
  "kernelspec": {
   "display_name": "base",
   "language": "python",
   "name": "python3"
  },
  "language_info": {
   "codemirror_mode": {
    "name": "ipython",
    "version": 3
   },
   "file_extension": ".py",
   "mimetype": "text/x-python",
   "name": "python",
   "nbconvert_exporter": "python",
   "pygments_lexer": "ipython3",
   "version": "3.11.5"
  }
 },
 "nbformat": 4,
 "nbformat_minor": 2
}
